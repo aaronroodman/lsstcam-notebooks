{
 "cells": [
  {
   "cell_type": "code",
   "execution_count": 1,
   "id": "499adf74-550f-4c6b-a02d-46f88957edd4",
   "metadata": {
    "execution": {
     "iopub.execute_input": "2023-06-20T15:39:43.210716Z",
     "iopub.status.busy": "2023-06-20T15:39:43.210471Z",
     "iopub.status.idle": "2023-06-20T15:39:43.619142Z",
     "shell.execute_reply": "2023-06-20T15:39:43.618525Z",
     "shell.execute_reply.started": "2023-06-20T15:39:43.210689Z"
    },
    "tags": []
   },
   "outputs": [
    {
     "name": "stdout",
     "output_type": "stream",
     "text": [
      "   gdf42428520+f51fc98903 \tcurrent w_2023_23 setup\n"
     ]
    }
   ],
   "source": [
    "! eups list -s lsst_distrib"
   ]
  },
  {
   "cell_type": "code",
   "execution_count": 10,
   "id": "e21661f1-0884-46ed-841a-3b4047ff54ee",
   "metadata": {
    "execution": {
     "iopub.execute_input": "2023-06-20T20:20:01.258066Z",
     "iopub.status.busy": "2023-06-20T20:20:01.257712Z",
     "iopub.status.idle": "2023-06-20T20:20:01.261199Z",
     "shell.execute_reply": "2023-06-20T20:20:01.260803Z",
     "shell.execute_reply.started": "2023-06-20T20:20:01.258049Z"
    },
    "tags": []
   },
   "outputs": [],
   "source": [
    "from matplotlib import pyplot as plt\n",
    "import lsst.daf.butler as daf_butler\n",
    "import lsst.afw.display as afwDisplay\n",
    "from lsst.ip.isr.isrTask import IsrTask\n",
    "from lsst.cp.pipe.cpCombine import CalibCombineTask\n",
    "\n",
    "from astropy.visualization import imshow_norm, MinMaxInterval,AsinhStretch,LinearStretch,SqrtStretch,ContrastBiasStretch,ZScaleInterval,AsymmetricPercentileInterval,ManualInterval\n",
    "\n",
    "from lsst.obs.lsst import LsstCam\n",
    "camera = LsstCam.getCamera()"
   ]
  },
  {
   "cell_type": "code",
   "execution_count": 3,
   "id": "0f06900f-d217-409f-8f39-e4030d658c51",
   "metadata": {
    "execution": {
     "iopub.execute_input": "2023-06-20T20:17:52.497704Z",
     "iopub.status.busy": "2023-06-20T20:17:52.496945Z",
     "iopub.status.idle": "2023-06-20T20:17:53.252153Z",
     "shell.execute_reply": "2023-06-20T20:17:53.251560Z",
     "shell.execute_reply.started": "2023-06-20T20:17:52.497679Z"
    },
    "tags": []
   },
   "outputs": [],
   "source": [
    "#repo_path = \"/sdf/data/rubin/repo/main\"\n",
    "repo_path = \"/sdf/group/rubin/repo/ir2\"\n",
    "collections = 'LSSTCam/raw/all,LSSTCam/calib'.split(\",\")\n",
    "butler = daf_butler.Butler(repo_path,collections=collections)\n",
    "registry = butler.registry"
   ]
  },
  {
   "cell_type": "code",
   "execution_count": 4,
   "id": "31cbf4d4-fd67-4262-9e83-c5c025547c94",
   "metadata": {
    "execution": {
     "iopub.execute_input": "2023-06-20T20:17:54.833267Z",
     "iopub.status.busy": "2023-06-20T20:17:54.832638Z",
     "iopub.status.idle": "2023-06-20T20:17:56.987483Z",
     "shell.execute_reply": "2023-06-20T20:17:56.986932Z",
     "shell.execute_reply.started": "2023-06-20T20:17:54.833247Z"
    },
    "tags": []
   },
   "outputs": [
    {
     "name": "stdout",
     "output_type": "stream",
     "text": [
      "   LSSTCam  45     R12_S00          S00     R12   SCIENCE\n",
      "   LSSTCam  46     R12_S01          S01     R12   SCIENCE\n",
      "   LSSTCam  47     R12_S02          S02     R12   SCIENCE\n",
      "   LSSTCam  48     R12_S10          S10     R12   SCIENCE\n",
      "   LSSTCam  49     R12_S11          S11     R12   SCIENCE\n",
      "   LSSTCam  50     R12_S12          S12     R12   SCIENCE\n",
      "   LSSTCam  51     R12_S20          S20     R12   SCIENCE\n",
      "   LSSTCam  52     R12_S21          S21     R12   SCIENCE\n",
      "   LSSTCam  53     R12_S22          S22     R12   SCIENCE\n"
     ]
    }
   ],
   "source": [
    "!butler query-dimension-records /sdf/group/rubin/repo/ir2 detector | grep LSSTCam | grep R12"
   ]
  },
  {
   "cell_type": "markdown",
   "id": "736c3949-5109-4eb9-a1c8-2f9d2b44be75",
   "metadata": {},
   "source": [
    "# Get the super flat from Run 13378"
   ]
  },
  {
   "cell_type": "code",
   "execution_count": 5,
   "id": "dda790f7-a881-408c-8075-bc9382da59ea",
   "metadata": {
    "execution": {
     "iopub.execute_input": "2023-06-20T20:18:19.166143Z",
     "iopub.status.busy": "2023-06-20T20:18:19.165883Z",
     "iopub.status.idle": "2023-06-20T20:18:19.949654Z",
     "shell.execute_reply": "2023-06-20T20:18:19.949049Z",
     "shell.execute_reply.started": "2023-06-20T20:18:19.166125Z"
    },
    "tags": []
   },
   "outputs": [
    {
     "name": "stdout",
     "output_type": "stream",
     "text": [
      "u/lsstccs/eo_bias_stability_13378_w_2023_24\n",
      "u/lsstccs/bias_13378_w_2023_24\n",
      "u/lsstccs/eo_dark_current_13378_w_2023_24\n",
      "u/lsstccs/eo_raft_calib_mosaics_13378_w_2023_24\n",
      "u/lsstccs/dark_13378_w_2023_24\n",
      "u/lsstccs/eo_eper_13378_w_2023_24\n",
      "u/lsstccs/eo_ptc_plots_13378_w_2023_24\n",
      "u/lsstccs/eo_cti_vs_flux_13378_w_2023_24\n",
      "u/lsstccs/eo_raft_lambda_mosaics_13378_w_2023_24\n",
      "u/lsstccs/flat_13378_w_2023_24\n",
      "u/lsstccs/eo_bf_analysis_13378_w_2023_24\n",
      "u/lsstccs/eo_divisadero_tearing_13378_w_2023_24\n",
      "u/lsstccs/defects_13378_w_2023_24\n",
      "u/lsstccs/eo_bright_defects_13378_w_2023_24\n",
      "u/lsstccs/ptc_13378_w_2023_24\n",
      "u/lsstccs/eo_read_noise_13378_w_2023_24\n",
      "u/lsstccs/eo_dark_defects_13378_w_2023_24\n",
      "u/lsstccs/eo_raft_amp_correlations_13378_w_2023_24\n",
      "u/lsstccs/eo_persistence_13378_w_2023_24\n"
     ]
    }
   ],
   "source": [
    "repo = '/repo/ir2'\n",
    "operator = 'lsstccs'\n",
    "acq_run = '13378'  # This is a D-protocol run.\n",
    "weekly = 'w_2023_24'\n",
    "\n",
    "# We use the collection naming scheme to find all of the chained collections for an eo_pipe analysis of \n",
    "# the specified run.  For our dataset queries, we'll use these collections.\n",
    "butler = daf_butler.Butler(repo)\n",
    "collections_13378 = butler.registry.queryCollections(f\"u/{operator}/*_{acq_run}_{weekly}\",\n",
    "                                               collectionTypes=daf_butler.CollectionType.CHAINED)\n",
    "for item in collections_13378:\n",
    "    print(item)"
   ]
  },
  {
   "cell_type": "code",
   "execution_count": null,
   "id": "9077f4f7-ad01-49e9-b42e-139e32f805e5",
   "metadata": {},
   "outputs": [],
   "source": []
  },
  {
   "cell_type": "code",
   "execution_count": 6,
   "id": "0be6884e-e55f-446a-9de8-b27ea2d1c631",
   "metadata": {
    "execution": {
     "iopub.execute_input": "2023-06-20T20:18:26.235587Z",
     "iopub.status.busy": "2023-06-20T20:18:26.235037Z",
     "iopub.status.idle": "2023-06-20T20:18:26.272887Z",
     "shell.execute_reply": "2023-06-20T20:18:26.272439Z",
     "shell.execute_reply.started": "2023-06-20T20:18:26.235570Z"
    },
    "tags": []
   },
   "outputs": [
    {
     "name": "stdout",
     "output_type": "stream",
     "text": [
      "You have 205 in this repository with the condition supplied {'datasetType': 'cpFlatProc', 'collections': ['u/lsstccs/eo_bias_stability_13378_w_2023_24', 'u/lsstccs/bias_13378_w_2023_24', 'u/lsstccs/eo_dark_current_13378_w_2023_24', 'u/lsstccs/eo_raft_calib_mosaics_13378_w_2023_24', 'u/lsstccs/dark_13378_w_2023_24', 'u/lsstccs/eo_eper_13378_w_2023_24', 'u/lsstccs/eo_ptc_plots_13378_w_2023_24', 'u/lsstccs/eo_cti_vs_flux_13378_w_2023_24', 'u/lsstccs/eo_raft_lambda_mosaics_13378_w_2023_24', 'u/lsstccs/flat_13378_w_2023_24', 'u/lsstccs/eo_bf_analysis_13378_w_2023_24', 'u/lsstccs/eo_divisadero_tearing_13378_w_2023_24', 'u/lsstccs/defects_13378_w_2023_24', 'u/lsstccs/eo_bright_defects_13378_w_2023_24', 'u/lsstccs/ptc_13378_w_2023_24', 'u/lsstccs/eo_read_noise_13378_w_2023_24', 'u/lsstccs/eo_dark_defects_13378_w_2023_24', 'u/lsstccs/eo_raft_amp_correlations_13378_w_2023_24', 'u/lsstccs/eo_persistence_13378_w_2023_24'], 'where': \"\\ninstrument='LSSTCam' and\\nexposure.obs_id in ( 'MC_C_20230619_000202' ) \\n\"}\n"
     ]
    }
   ],
   "source": [
    "kwargs={\n",
    "\"datasetType\": \"cpFlatProc\",\n",
    "\"collections\": collections_13378,\n",
    "\"where\":\n",
    "\"\"\"\n",
    "instrument='LSSTCam' and\n",
    "exposure.obs_id in ( 'MC_C_20230619_000202' ) \n",
    "\"\"\"\n",
    "}\n",
    "\n",
    "refs = list(set(registry.queryDatasets(**kwargs)))\n",
    "exposure_refs = {ref.dataId['detector']: ref for ref in refs}\n",
    "\n",
    "print( f\"You have {len(refs)} in this repository with the condition supplied {kwargs}\")"
   ]
  },
  {
   "cell_type": "code",
   "execution_count": 7,
   "id": "a8b576d7-e1aa-407b-8f23-c6274a225240",
   "metadata": {
    "execution": {
     "iopub.execute_input": "2023-06-20T20:18:31.215857Z",
     "iopub.status.busy": "2023-06-20T20:18:31.215240Z",
     "iopub.status.idle": "2023-06-20T20:18:31.218961Z",
     "shell.execute_reply": "2023-06-20T20:18:31.218545Z",
     "shell.execute_reply.started": "2023-06-20T20:18:31.215839Z"
    },
    "tags": []
   },
   "outputs": [
    {
     "data": {
      "text/plain": [
       "dict_keys([14, 13, 140, 68, 138, 136, 45, 73, 60, 154, 183, 99, 125, 127, 189, 17, 67, 109, 5, 26, 24, 174, 1, 157, 190, 10, 115, 169, 188, 118, 141, 195, 58, 158, 31, 178, 32, 155, 132, 95, 182, 119, 8, 35, 156, 163, 47, 164, 23, 93, 7, 121, 56, 72, 61, 101, 27, 74, 55, 111, 185, 64, 53, 4, 120, 184, 15, 38, 84, 22, 86, 200, 97, 9, 46, 75, 170, 117, 187, 112, 134, 186, 144, 3, 70, 29, 44, 69, 92, 137, 139, 143, 149, 171, 177, 199, 124, 114, 167, 39, 52, 71, 57, 110, 25, 65, 116, 54, 159, 175, 173, 34, 50, 180, 135, 145, 30, 89, 102, 104, 85, 48, 122, 152, 130, 161, 42, 76, 19, 94, 202, 79, 83, 191, 90, 123, 2, 6, 81, 179, 197, 100, 194, 201, 18, 142, 63, 91, 80, 66, 96, 40, 196, 107, 192, 113, 146, 176, 88, 51, 21, 36, 12, 87, 49, 16, 11, 128, 204, 106, 129, 43, 103, 198, 131, 193, 126, 105, 172, 98, 203, 147, 150, 153, 20, 33, 133, 148, 108, 168, 0, 77, 37, 181, 151, 162, 82, 41, 165, 59, 28, 78, 166, 62, 160])"
      ]
     },
     "execution_count": 7,
     "metadata": {},
     "output_type": "execute_result"
    }
   ],
   "source": [
    "exposure_refs.keys()"
   ]
  },
  {
   "cell_type": "code",
   "execution_count": 40,
   "id": "af24eea6-27ca-4908-9cd5-dae25b7f3e77",
   "metadata": {
    "execution": {
     "iopub.execute_input": "2023-06-20T16:59:25.104905Z",
     "iopub.status.busy": "2023-06-20T16:59:25.104536Z",
     "iopub.status.idle": "2023-06-20T16:59:25.108210Z",
     "shell.execute_reply": "2023-06-20T16:59:25.107857Z",
     "shell.execute_reply.started": "2023-06-20T16:59:25.104888Z"
    },
    "tags": []
   },
   "outputs": [
    {
     "name": "stdout",
     "output_type": "stream",
     "text": [
      "adet.getCenter(FIELD_ANGLE) = Point2D(-0.008218561522168856, -0.028726180233102225) (radians)\n",
      "adet.getCenter(FOCAL_PLANE) = Point2D(-84.760000000000005, -296.25999999999999) (mm)\n",
      "[Point2D(-105.12, -316.25999999999999), Point2D(-64.400000000000006, -316.25999999999999), Point2D(-64.400000000000006, -276.25999999999999), Point2D(-105.12, -276.25999999999999)]\n"
     ]
    }
   ],
   "source": [
    "from lsst.afw.cameraGeom import FOCAL_PLANE, FIELD_ANGLE\n",
    "adet = camera['R01_S02']\n",
    "print(f\"{adet.getCenter(FIELD_ANGLE) = } (radians)\")\n",
    "print(f\"{adet.getCenter(FOCAL_PLANE) = } (mm)\")\n",
    "print(adet.getCorners(FOCAL_PLANE))"
   ]
  },
  {
   "cell_type": "markdown",
   "id": "f0a15989-c4ae-4c13-ab89-09be002ec58b",
   "metadata": {},
   "source": [
    "# make a Mosaic"
   ]
  },
  {
   "cell_type": "code",
   "execution_count": 8,
   "id": "12da85fa-6983-43be-9663-5bc747a7e71a",
   "metadata": {
    "execution": {
     "iopub.execute_input": "2023-06-20T20:18:55.165077Z",
     "iopub.status.busy": "2023-06-20T20:18:55.164828Z",
     "iopub.status.idle": "2023-06-20T20:18:55.230871Z",
     "shell.execute_reply": "2023-06-20T20:18:55.230415Z",
     "shell.execute_reply.started": "2023-06-20T20:18:55.165061Z"
    },
    "tags": []
   },
   "outputs": [],
   "source": [
    "from  lsst.eo.pipe.plotting import plotting_utils"
   ]
  },
  {
   "cell_type": "code",
   "execution_count": 9,
   "id": "89ec278f-e1db-41fc-9639-268beef7d149",
   "metadata": {
    "execution": {
     "iopub.execute_input": "2023-06-20T20:18:58.637142Z",
     "iopub.status.busy": "2023-06-20T20:18:58.636533Z",
     "iopub.status.idle": "2023-06-20T20:18:58.774279Z",
     "shell.execute_reply": "2023-06-20T20:18:58.773544Z",
     "shell.execute_reply.started": "2023-06-20T20:18:58.637124Z"
    },
    "tags": []
   },
   "outputs": [
    {
     "ename": "AttributeError",
     "evalue": "'DatasetRef' object has no attribute 'get'",
     "output_type": "error",
     "traceback": [
      "\u001b[0;31m---------------------------------------------------------------------------\u001b[0m",
      "\u001b[0;31mAttributeError\u001b[0m                            Traceback (most recent call last)",
      "Input \u001b[0;32mIn [9]\u001b[0m, in \u001b[0;36m<cell line: 1>\u001b[0;34m()\u001b[0m\n\u001b[0;32m----> 1\u001b[0m \u001b[43mplotting_utils\u001b[49m\u001b[38;5;241;43m.\u001b[39;49m\u001b[43mmake_mosaic\u001b[49m\u001b[43m(\u001b[49m\u001b[43mexposure_refs\u001b[49m\u001b[43m,\u001b[49m\u001b[43m \u001b[49m\u001b[43mcamera\u001b[49m\u001b[43m,\u001b[49m\u001b[43m \u001b[49m\u001b[43mbinSize\u001b[49m\u001b[38;5;241;43m=\u001b[39;49m\u001b[38;5;241;43m8\u001b[39;49m\u001b[43m,\u001b[49m\u001b[43m \u001b[49m\u001b[43mfigsize\u001b[49m\u001b[38;5;241;43m=\u001b[39;49m\u001b[43m(\u001b[49m\u001b[38;5;241;43m10\u001b[39;49m\u001b[43m,\u001b[49m\u001b[38;5;241;43m10\u001b[39;49m\u001b[43m)\u001b[49m\u001b[43m,\u001b[49m\u001b[43m \u001b[49m\u001b[43mcmap\u001b[49m\u001b[38;5;241;43m=\u001b[39;49m\u001b[38;5;124;43m'\u001b[39;49m\u001b[38;5;124;43mplasma\u001b[39;49m\u001b[38;5;124;43m'\u001b[39;49m\u001b[43m,\u001b[49m\u001b[43m \u001b[49m\u001b[43mnsig\u001b[49m\u001b[38;5;241;43m=\u001b[39;49m\u001b[38;5;241;43m3.0\u001b[39;49m\u001b[43m,\u001b[49m\n\u001b[1;32m      2\u001b[0m \u001b[43m                \u001b[49m\u001b[43mtitle\u001b[49m\u001b[38;5;241;43m=\u001b[39;49m\u001b[38;5;124;43m'\u001b[39;49m\u001b[38;5;124;43mTest Image\u001b[39;49m\u001b[38;5;124;43m'\u001b[39;49m\u001b[43m)\u001b[49m\n",
      "File \u001b[0;32m~/u/LSST/eo_pipe/python/lsst/eo/pipe/plotting/plotting_utils.py:87\u001b[0m, in \u001b[0;36mmake_mosaic\u001b[0;34m(exposure_refs, camera, binSize, figsize, cmap, nsig, title)\u001b[0m\n\u001b[1;32m     84\u001b[0m detectorNameList \u001b[38;5;241m=\u001b[39m [camera[detector]\u001b[38;5;241m.\u001b[39mgetName() \u001b[38;5;28;01mfor\u001b[39;00m\n\u001b[1;32m     85\u001b[0m                     detector \u001b[38;5;129;01min\u001b[39;00m exposure_refs]\n\u001b[1;32m     86\u001b[0m image_source \u001b[38;5;241m=\u001b[39m ImageSource(exposure_refs)\n\u001b[0;32m---> 87\u001b[0m mosaic \u001b[38;5;241m=\u001b[39m \u001b[43mcgu\u001b[49m\u001b[38;5;241;43m.\u001b[39;49m\u001b[43mshowCamera\u001b[49m\u001b[43m(\u001b[49m\u001b[43mcamera\u001b[49m\u001b[43m,\u001b[49m\u001b[43m \u001b[49m\u001b[43mimageSource\u001b[49m\u001b[38;5;241;43m=\u001b[39;49m\u001b[43mimage_source\u001b[49m\u001b[43m,\u001b[49m\n\u001b[1;32m     88\u001b[0m \u001b[43m                        \u001b[49m\u001b[43mdetectorNameList\u001b[49m\u001b[38;5;241;43m=\u001b[39;49m\u001b[43mdetectorNameList\u001b[49m\u001b[43m,\u001b[49m\n\u001b[1;32m     89\u001b[0m \u001b[43m                        \u001b[49m\u001b[43mbinSize\u001b[49m\u001b[38;5;241;43m=\u001b[39;49m\u001b[43mbinSize\u001b[49m\u001b[43m)\u001b[49m\n\u001b[1;32m     90\u001b[0m mosaic \u001b[38;5;241m=\u001b[39m afwMath\u001b[38;5;241m.\u001b[39mflipImage(mosaic, flipLR\u001b[38;5;241m=\u001b[39m\u001b[38;5;28;01mFalse\u001b[39;00m, flipTB\u001b[38;5;241m=\u001b[39m\u001b[38;5;28;01mTrue\u001b[39;00m)\n\u001b[1;32m     91\u001b[0m imarr \u001b[38;5;241m=\u001b[39m mosaic\u001b[38;5;241m.\u001b[39marray\n",
      "File \u001b[0;32m/opt/lsst/software/stack/stack/miniconda3-py38_4.9.2-6.0.0/Linux64/afw/g4230fac9de+97ce69b5ba/python/lsst/afw/cameraGeom/utils.py:980\u001b[0m, in \u001b[0;36mshowCamera\u001b[0;34m(camera, imageSource, imageFactory, detectorNameList, binSize, bufferSize, overlay, title, showWcs, ctype, textSize, originAtCenter, display, **kwargs)\u001b[0m\n\u001b[1;32m    978\u001b[0m \u001b[38;5;28;01mif\u001b[39;00m binSize \u001b[38;5;241m<\u001b[39m \u001b[38;5;241m1\u001b[39m:\n\u001b[1;32m    979\u001b[0m     binSize \u001b[38;5;241m=\u001b[39m \u001b[38;5;241m1\u001b[39m\n\u001b[0;32m--> 980\u001b[0m cameraImage \u001b[38;5;241m=\u001b[39m \u001b[43mmakeImageFromCamera\u001b[49m\u001b[43m(\u001b[49m\u001b[43mcamera\u001b[49m\u001b[43m,\u001b[49m\u001b[43m \u001b[49m\u001b[43mdetectorNameList\u001b[49m\u001b[38;5;241;43m=\u001b[39;49m\u001b[43mdetectorNameList\u001b[49m\u001b[43m,\u001b[49m\u001b[43m \u001b[49m\u001b[43mbufferSize\u001b[49m\u001b[38;5;241;43m=\u001b[39;49m\u001b[43mbufferSize\u001b[49m\u001b[43m,\u001b[49m\n\u001b[1;32m    981\u001b[0m \u001b[43m                                  \u001b[49m\u001b[43mimageSource\u001b[49m\u001b[38;5;241;43m=\u001b[39;49m\u001b[43mimageSource\u001b[49m\u001b[43m,\u001b[49m\u001b[43m \u001b[49m\u001b[43mimageFactory\u001b[49m\u001b[38;5;241;43m=\u001b[39;49m\u001b[43mimageFactory\u001b[49m\u001b[43m,\u001b[49m\u001b[43m \u001b[49m\u001b[43mbinSize\u001b[49m\u001b[38;5;241;43m=\u001b[39;49m\u001b[43mbinSize\u001b[49m\u001b[43m,\u001b[49m\n\u001b[1;32m    982\u001b[0m \u001b[43m                                  \u001b[49m\u001b[38;5;241;43m*\u001b[39;49m\u001b[38;5;241;43m*\u001b[39;49m\u001b[43mkwargs\u001b[49m\u001b[43m)\u001b[49m\n\u001b[1;32m    984\u001b[0m \u001b[38;5;28;01mif\u001b[39;00m detectorNameList \u001b[38;5;129;01mis\u001b[39;00m \u001b[38;5;28;01mNone\u001b[39;00m:\n\u001b[1;32m    985\u001b[0m     ccdList \u001b[38;5;241m=\u001b[39m [camera[name] \u001b[38;5;28;01mfor\u001b[39;00m name \u001b[38;5;129;01min\u001b[39;00m camera\u001b[38;5;241m.\u001b[39mgetNameIter()]\n",
      "File \u001b[0;32m/opt/lsst/software/stack/stack/miniconda3-py38_4.9.2-6.0.0/Linux64/afw/g4230fac9de+97ce69b5ba/python/lsst/afw/cameraGeom/utils.py:913\u001b[0m, in \u001b[0;36mmakeImageFromCamera\u001b[0;34m(camera, detectorNameList, background, bufferSize, imageSource, imageFactory, binSize)\u001b[0m\n\u001b[1;32m    911\u001b[0m boxList \u001b[38;5;241m=\u001b[39m getCcdInCamBBoxList(ccdList, binSize, pixelSize_o, origin)\n\u001b[1;32m    912\u001b[0m \u001b[38;5;28;01mfor\u001b[39;00m det, bbox \u001b[38;5;129;01min\u001b[39;00m \u001b[38;5;28mzip\u001b[39m(ccdList, boxList):\n\u001b[0;32m--> 913\u001b[0m     im \u001b[38;5;241m=\u001b[39m \u001b[43mimageSource\u001b[49m\u001b[38;5;241;43m.\u001b[39;49m\u001b[43mgetCcdImage\u001b[49m\u001b[43m(\u001b[49m\u001b[43mdet\u001b[49m\u001b[43m,\u001b[49m\u001b[43m \u001b[49m\u001b[43mimageFactory\u001b[49m\u001b[43m,\u001b[49m\u001b[43m \u001b[49m\u001b[43mbinSize\u001b[49m\u001b[43m)\u001b[49m[\u001b[38;5;241m0\u001b[39m]\n\u001b[1;32m    914\u001b[0m     \u001b[38;5;28;01mif\u001b[39;00m im \u001b[38;5;129;01mis\u001b[39;00m \u001b[38;5;28;01mNone\u001b[39;00m:\n\u001b[1;32m    915\u001b[0m         \u001b[38;5;28;01mcontinue\u001b[39;00m\n",
      "File \u001b[0;32m~/u/LSST/eo_pipe/python/lsst/eo/pipe/plotting/plotting_utils.py:50\u001b[0m, in \u001b[0;36mImageSource.getCcdImage\u001b[0;34m(self, det, imageFactory, binSize, *args, **kwargs)\u001b[0m\n\u001b[1;32m     49\u001b[0m \u001b[38;5;28;01mdef\u001b[39;00m \u001b[38;5;21mgetCcdImage\u001b[39m(\u001b[38;5;28mself\u001b[39m, det, imageFactory, binSize\u001b[38;5;241m=\u001b[39m\u001b[38;5;241m1\u001b[39m, \u001b[38;5;241m*\u001b[39margs, \u001b[38;5;241m*\u001b[39m\u001b[38;5;241m*\u001b[39mkwargs):\n\u001b[0;32m---> 50\u001b[0m     ccdImage \u001b[38;5;241m=\u001b[39m \u001b[38;5;28;43mself\u001b[39;49m\u001b[38;5;241;43m.\u001b[39;49m\u001b[43mexposure_handles\u001b[49m\u001b[43m[\u001b[49m\u001b[43mdet\u001b[49m\u001b[38;5;241;43m.\u001b[39;49m\u001b[43mgetId\u001b[49m\u001b[43m(\u001b[49m\u001b[43m)\u001b[49m\u001b[43m]\u001b[49m\u001b[38;5;241;43m.\u001b[39;49m\u001b[43mget\u001b[49m()\u001b[38;5;241m.\u001b[39mgetImage()\n\u001b[1;32m     51\u001b[0m     ccdImage \u001b[38;5;241m=\u001b[39m afwMath\u001b[38;5;241m.\u001b[39mbinImage(ccdImage, binSize)\n\u001b[1;32m     52\u001b[0m     \u001b[38;5;28;01mreturn\u001b[39;00m afwMath\u001b[38;5;241m.\u001b[39mrotateImageBy90(ccdImage,\n\u001b[1;32m     53\u001b[0m                                    det\u001b[38;5;241m.\u001b[39mgetOrientation()\u001b[38;5;241m.\u001b[39mgetNQuarter()), det\n",
      "\u001b[0;31mAttributeError\u001b[0m: 'DatasetRef' object has no attribute 'get'"
     ]
    }
   ],
   "source": [
    "plotting_utils.make_mosaic(exposure_refs, camera, binSize=8, figsize=(10,10), cmap='plasma', nsig=3.0,\n",
    "                title='Test Image')"
   ]
  },
  {
   "cell_type": "code",
   "execution_count": null,
   "id": "3ada3e78-17ea-447c-afd3-6270498e809a",
   "metadata": {},
   "outputs": [],
   "source": []
  }
 ],
 "metadata": {
  "kernelspec": {
   "display_name": "LSST",
   "language": "python",
   "name": "lsst"
  },
  "language_info": {
   "codemirror_mode": {
    "name": "ipython",
    "version": 3
   },
   "file_extension": ".py",
   "mimetype": "text/x-python",
   "name": "python",
   "nbconvert_exporter": "python",
   "pygments_lexer": "ipython3",
   "version": "3.10.10"
  }
 },
 "nbformat": 4,
 "nbformat_minor": 5
}
